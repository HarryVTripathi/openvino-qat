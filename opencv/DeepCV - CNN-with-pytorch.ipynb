{
 "cells": [
  {
   "cell_type": "code",
   "execution_count": 1,
   "metadata": {},
   "outputs": [
    {
     "data": {
      "text/html": [
       "<style>\n",
       "h1 {\n",
       "  border-radius: 10px;\n",
       "  padding: 10px;\n",
       "  margin: 10px;\n",
       "  font-family: cursive;\n",
       "  color: white;\n",
       "  position: static;\n",
       "  background: rgb(0,206,244);\n",
       "  background: linear-gradient(180deg, rgba(0,206,244,1) 0%, rgba(169,238,251,1) 100%);\n",
       "}\n",
       "\n",
       "div#notebook {\n",
       "  color: black;\n",
       "  background-color: rgb(0, 0, 0);\n",
       "}\n",
       "\n",
       "div#notebook-container {\n",
       "  color: black;\n",
       "  background-color: rgb(32, 35, 36);\n",
       "}\n",
       "\n",
       "div.text_cell_render {\n",
       "  word-spacing: 120%;\n",
       "  font-family: cursive;\n",
       "  font-size: 120%;\n",
       "  color: rgb(249, 250, 250);\n",
       "  line-height: 220%;\n",
       "}\n",
       "\n",
       "div.output_subarea.output_text.output_result {\n",
       "  color: aliceblue;\n",
       "  background: rgb(196, 209, 212);\n",
       "  background: linear-gradient(180deg,rgb(196, 209, 212, 1) 0%, rgb(255, 255, 255) 100%);\n",
       "} \n",
       "\n",
       "div.CodeMirror-lines {\n",
       "  background-color: rgb(196, 209, 212);\n",
       "}\n",
       "</style>"
      ],
      "text/plain": [
       "<IPython.core.display.HTML object>"
      ]
     },
     "execution_count": 1,
     "metadata": {},
     "output_type": "execute_result"
    }
   ],
   "source": [
    "from IPython.core.display import HTML\n",
    "def css_styling():\n",
    "    styles = open(\"./styles/custom.css\", \"r\").read()\n",
    "    return HTML(styles)\n",
    "\n",
    "css_styling()"
   ]
  },
  {
   "cell_type": "code",
   "execution_count": 2,
   "metadata": {},
   "outputs": [],
   "source": [
    "from torch import max, no_grad\n",
    "from torch.nn import Conv2d, MaxPool2d, ReLU, Softmax, Flatten, Module, Linear, CrossEntropyLoss\n",
    "from torch.nn import functional as f\n",
    "from torch.optim import Adam, SGD\n",
    "from torchvision.transforms import Compose, Normalize, ToTensor\n",
    "from torchvision.datasets import MNIST"
   ]
  },
  {
   "cell_type": "markdown",
   "metadata": {},
   "source": [
    "Setting the mean and std dev to 0.5 and 0.5 repectively.\n",
    "\n",
    "Since are intensity values are 0 and 1, \n",
    "\n",
    " - Min value: (0 - 0.5)/0.5 = -1\n",
    "\n",
    " - Max value: (1 - 0.5)/0.5 = 1"
   ]
  },
  {
   "cell_type": "code",
   "execution_count": 3,
   "metadata": {},
   "outputs": [],
   "source": [
    "transform = Compose([\n",
    "    ToTensor(),\n",
    "    Normalize((0.5, ), (0.5, )),\n",
    "])"
   ]
  },
  {
   "cell_type": "code",
   "execution_count": 4,
   "metadata": {},
   "outputs": [],
   "source": [
    "train = MNIST(\n",
    "    \"mnist\",\n",
    "    train=True,\n",
    "    download=True,\n",
    "    transform=transform,\n",
    ")\n",
    "\n",
    "test = MNIST(\n",
    "    \"mnist\",\n",
    "    train=False,\n",
    "    download=True,\n",
    "    transform=transform,\n",
    ")"
   ]
  },
  {
   "cell_type": "code",
   "execution_count": 5,
   "metadata": {},
   "outputs": [
    {
     "name": "stdout",
     "output_type": "stream",
     "text": [
      "torch.Size([60000, 28, 28])\n",
      "torch.Size([10000, 28, 28])\n",
      "torch.Size([28, 28])\n"
     ]
    }
   ],
   "source": [
    "print(train.data.shape)\n",
    "print(test.data.shape)\n",
    "print(train.data[0].shape)"
   ]
  },
  {
   "cell_type": "code",
   "execution_count": 6,
   "metadata": {},
   "outputs": [],
   "source": [
    "from torch.utils.data import DataLoader"
   ]
  },
  {
   "cell_type": "code",
   "execution_count": 7,
   "metadata": {},
   "outputs": [],
   "source": [
    "trainloader = DataLoader(\n",
    "    train,\n",
    "    batch_size=32,\n",
    "    shuffle=True,\n",
    "    num_workers=0,\n",
    ")\n",
    "testloader = DataLoader(\n",
    "    test,\n",
    "    batch_size=32,\n",
    "    shuffle=False,\n",
    "    num_workers=0,\n",
    ")"
   ]
  },
  {
   "cell_type": "markdown",
   "metadata": {},
   "source": [
    "### Building the model"
   ]
  },
  {
   "cell_type": "code",
   "execution_count": 8,
   "metadata": {},
   "outputs": [],
   "source": [
    " class ConvNet(Module):\n",
    "    def __init__(self):\n",
    "        super(ConvNet, self).__init__()\n",
    "        self.conv_1 = Conv2d(in_channels=1, out_channels=32, kernel_size=3)\n",
    "        self.conv_2 = Conv2d(in_channels=32, out_channels=64, kernel_size=3)\n",
    "        self.maxpool = MaxPool2d(kernel_size=2, stride=2)\n",
    "        self.fc_1 = Linear(64 * 12 * 12, 128)\n",
    "        self.fc_2 = Linear(128, 10)\n",
    "        \n",
    "    def forward(self, x):\n",
    "        x = f.relu(self.conv_1(x))\n",
    "        x = self.maxpool(f.relu(self.conv_2(x)))\n",
    "        x = x.view(-1, 64*12*12)  # Flatten Layer\n",
    "        x = f.relu(self.fc_1(x))\n",
    "        x = self.fc_2(x)\n",
    "        return x"
   ]
  },
  {
   "cell_type": "code",
   "execution_count": 9,
   "metadata": {},
   "outputs": [],
   "source": [
    "covnet = ConvNet()"
   ]
  },
  {
   "cell_type": "code",
   "execution_count": 10,
   "metadata": {},
   "outputs": [
    {
     "data": {
      "text/plain": [
       "ConvNet(\n",
       "  (conv_1): Conv2d(1, 32, kernel_size=(3, 3), stride=(1, 1))\n",
       "  (conv_2): Conv2d(32, 64, kernel_size=(3, 3), stride=(1, 1))\n",
       "  (maxpool): MaxPool2d(kernel_size=2, stride=2, padding=0, dilation=1, ceil_mode=False)\n",
       "  (fc_1): Linear(in_features=9216, out_features=128, bias=True)\n",
       "  (fc_2): Linear(in_features=128, out_features=10, bias=True)\n",
       ")"
      ]
     },
     "execution_count": 10,
     "metadata": {},
     "output_type": "execute_result"
    }
   ],
   "source": [
    "covnet.to(\"cpu\")"
   ]
  },
  {
   "cell_type": "code",
   "execution_count": 11,
   "metadata": {},
   "outputs": [],
   "source": [
    "loss_fn = CrossEntropyLoss()\n",
    "optimizer = SGD(covnet.parameters(), lr=0.001, momentum=0.9)"
   ]
  },
  {
   "cell_type": "markdown",
   "metadata": {},
   "source": [
    "### Training the model"
   ]
  },
  {
   "cell_type": "code",
   "execution_count": 19,
   "metadata": {},
   "outputs": [
    {
     "name": "stdout",
     "output_type": "stream",
     "text": [
      "Epoch: 1, Minibatches completed: 50, Loss: 2.272, Test acc: 22.040\n",
      "Epoch: 1, Minibatches completed: 100, Loss: 2.151, Test acc: 58.600\n",
      "Epoch: 1, Minibatches completed: 150, Loss: 1.814, Test acc: 73.100\n",
      "Epoch: 1, Minibatches completed: 200, Loss: 1.115, Test acc: 80.340\n",
      "Epoch: 1, Minibatches completed: 250, Loss: 0.702, Test acc: 83.490\n",
      "Epoch: 1, Minibatches completed: 300, Loss: 0.527, Test acc: 84.100\n",
      "Epoch: 1, Minibatches completed: 350, Loss: 0.497, Test acc: 86.510\n",
      "Epoch: 1, Minibatches completed: 400, Loss: 0.438, Test acc: 88.820\n",
      "Epoch: 1, Minibatches completed: 450, Loss: 0.381, Test acc: 88.540\n",
      "Epoch: 1, Minibatches completed: 500, Loss: 0.402, Test acc: 89.270\n",
      "Epoch: 1, Minibatches completed: 550, Loss: 0.386, Test acc: 90.210\n",
      "Epoch: 1, Minibatches completed: 600, Loss: 0.389, Test acc: 90.310\n",
      "Epoch: 1, Minibatches completed: 650, Loss: 0.382, Test acc: 90.200\n",
      "Epoch: 1, Minibatches completed: 700, Loss: 0.387, Test acc: 89.360\n",
      "Epoch: 1, Minibatches completed: 750, Loss: 0.319, Test acc: 91.210\n",
      "Epoch: 1, Minibatches completed: 800, Loss: 0.311, Test acc: 91.600\n",
      "Epoch: 1, Minibatches completed: 850, Loss: 0.322, Test acc: 91.170\n",
      "Epoch: 1, Minibatches completed: 900, Loss: 0.267, Test acc: 92.010\n",
      "Epoch: 1, Minibatches completed: 950, Loss: 0.288, Test acc: 91.610\n",
      "Epoch: 1, Minibatches completed: 1000, Loss: 0.297, Test acc: 92.540\n",
      "Epoch: 1, Minibatches completed: 1050, Loss: 0.254, Test acc: 92.060\n",
      "Epoch: 1, Minibatches completed: 1100, Loss: 0.266, Test acc: 92.720\n",
      "Epoch: 1, Minibatches completed: 1150, Loss: 0.260, Test acc: 92.790\n",
      "Epoch: 1, Minibatches completed: 1200, Loss: 0.235, Test acc: 92.750\n",
      "Epoch: 1, Minibatches completed: 1250, Loss: 0.249, Test acc: 93.510\n",
      "Epoch: 1, Minibatches completed: 1300, Loss: 0.231, Test acc: 92.630\n",
      "Epoch: 1, Minibatches completed: 1350, Loss: 0.251, Test acc: 93.730\n",
      "Epoch: 1, Minibatches completed: 1400, Loss: 0.244, Test acc: 93.660\n",
      "Epoch: 1, Minibatches completed: 1450, Loss: 0.218, Test acc: 94.380\n",
      "Epoch: 1, Minibatches completed: 1500, Loss: 0.209, Test acc: 94.260\n",
      "Epoch: 1, Minibatches completed: 1550, Loss: 0.225, Test acc: 94.580\n",
      "Epoch: 1, Minibatches completed: 1600, Loss: 0.186, Test acc: 93.870\n",
      "Epoch: 1, Minibatches completed: 1650, Loss: 0.221, Test acc: 94.240\n",
      "Epoch: 1, Minibatches completed: 1700, Loss: 0.240, Test acc: 94.610\n",
      "Epoch: 1, Minibatches completed: 1750, Loss: 0.218, Test acc: 94.790\n",
      "Epoch: 1, Minibatches completed: 1800, Loss: 0.179, Test acc: 94.970\n",
      "Epoch: 1, Minibatches completed: 1850, Loss: 0.178, Test acc: 95.170\n",
      "Epoch: 2, Minibatches completed: 50, Loss: 0.158, Test acc: 95.390\n",
      "Epoch: 2, Minibatches completed: 100, Loss: 0.175, Test acc: 95.360\n",
      "Epoch: 2, Minibatches completed: 150, Loss: 0.156, Test acc: 95.330\n",
      "Epoch: 2, Minibatches completed: 200, Loss: 0.189, Test acc: 94.930\n",
      "Epoch: 2, Minibatches completed: 250, Loss: 0.159, Test acc: 95.490\n",
      "Epoch: 2, Minibatches completed: 300, Loss: 0.167, Test acc: 95.650\n",
      "Epoch: 2, Minibatches completed: 350, Loss: 0.167, Test acc: 95.490\n",
      "Epoch: 2, Minibatches completed: 400, Loss: 0.145, Test acc: 96.010\n",
      "Epoch: 2, Minibatches completed: 450, Loss: 0.145, Test acc: 95.420\n",
      "Epoch: 2, Minibatches completed: 500, Loss: 0.144, Test acc: 96.200\n",
      "Epoch: 2, Minibatches completed: 550, Loss: 0.160, Test acc: 96.300\n",
      "Epoch: 2, Minibatches completed: 600, Loss: 0.151, Test acc: 96.420\n",
      "Epoch: 2, Minibatches completed: 650, Loss: 0.159, Test acc: 96.580\n",
      "Epoch: 2, Minibatches completed: 700, Loss: 0.130, Test acc: 96.240\n",
      "Epoch: 2, Minibatches completed: 750, Loss: 0.129, Test acc: 96.350\n",
      "Epoch: 2, Minibatches completed: 800, Loss: 0.110, Test acc: 96.620\n",
      "Epoch: 2, Minibatches completed: 850, Loss: 0.116, Test acc: 96.570\n",
      "Epoch: 2, Minibatches completed: 900, Loss: 0.120, Test acc: 96.450\n",
      "Epoch: 2, Minibatches completed: 950, Loss: 0.124, Test acc: 96.490\n",
      "Epoch: 2, Minibatches completed: 1000, Loss: 0.124, Test acc: 96.830\n",
      "Epoch: 2, Minibatches completed: 1050, Loss: 0.108, Test acc: 96.530\n",
      "Epoch: 2, Minibatches completed: 1100, Loss: 0.105, Test acc: 96.890\n",
      "Epoch: 2, Minibatches completed: 1150, Loss: 0.131, Test acc: 96.930\n",
      "Epoch: 2, Minibatches completed: 1200, Loss: 0.095, Test acc: 96.760\n",
      "Epoch: 2, Minibatches completed: 1250, Loss: 0.109, Test acc: 96.770\n",
      "Epoch: 2, Minibatches completed: 1300, Loss: 0.118, Test acc: 97.020\n",
      "Epoch: 2, Minibatches completed: 1350, Loss: 0.123, Test acc: 97.220\n",
      "Epoch: 2, Minibatches completed: 1400, Loss: 0.115, Test acc: 97.050\n",
      "Epoch: 2, Minibatches completed: 1450, Loss: 0.115, Test acc: 97.260\n",
      "Epoch: 2, Minibatches completed: 1500, Loss: 0.114, Test acc: 97.320\n",
      "Epoch: 2, Minibatches completed: 1550, Loss: 0.090, Test acc: 97.080\n",
      "Epoch: 2, Minibatches completed: 1600, Loss: 0.109, Test acc: 97.180\n",
      "Epoch: 2, Minibatches completed: 1650, Loss: 0.080, Test acc: 97.200\n",
      "Epoch: 2, Minibatches completed: 1700, Loss: 0.086, Test acc: 96.910\n",
      "Epoch: 2, Minibatches completed: 1750, Loss: 0.134, Test acc: 97.400\n",
      "Epoch: 2, Minibatches completed: 1800, Loss: 0.112, Test acc: 97.460\n",
      "Epoch: 2, Minibatches completed: 1850, Loss: 0.102, Test acc: 97.650\n",
      "Epoch: 3, Minibatches completed: 50, Loss: 0.081, Test acc: 97.520\n",
      "Epoch: 3, Minibatches completed: 100, Loss: 0.083, Test acc: 97.490\n",
      "Epoch: 3, Minibatches completed: 150, Loss: 0.086, Test acc: 97.180\n",
      "Epoch: 3, Minibatches completed: 200, Loss: 0.099, Test acc: 97.550\n",
      "Epoch: 3, Minibatches completed: 250, Loss: 0.089, Test acc: 97.610\n",
      "Epoch: 3, Minibatches completed: 300, Loss: 0.061, Test acc: 97.090\n",
      "Epoch: 3, Minibatches completed: 350, Loss: 0.110, Test acc: 97.780\n",
      "Epoch: 3, Minibatches completed: 400, Loss: 0.085, Test acc: 97.390\n",
      "Epoch: 3, Minibatches completed: 450, Loss: 0.077, Test acc: 97.410\n",
      "Epoch: 3, Minibatches completed: 500, Loss: 0.107, Test acc: 97.550\n",
      "Epoch: 3, Minibatches completed: 550, Loss: 0.084, Test acc: 97.360\n",
      "Epoch: 3, Minibatches completed: 600, Loss: 0.074, Test acc: 97.670\n",
      "Epoch: 3, Minibatches completed: 650, Loss: 0.073, Test acc: 97.370\n",
      "Epoch: 3, Minibatches completed: 700, Loss: 0.080, Test acc: 97.470\n",
      "Epoch: 3, Minibatches completed: 750, Loss: 0.087, Test acc: 97.550\n",
      "Epoch: 3, Minibatches completed: 800, Loss: 0.065, Test acc: 97.500\n",
      "Epoch: 3, Minibatches completed: 850, Loss: 0.088, Test acc: 97.700\n",
      "Epoch: 3, Minibatches completed: 900, Loss: 0.061, Test acc: 97.650\n",
      "Epoch: 3, Minibatches completed: 950, Loss: 0.092, Test acc: 97.570\n",
      "Epoch: 3, Minibatches completed: 1000, Loss: 0.067, Test acc: 98.020\n",
      "Epoch: 3, Minibatches completed: 1050, Loss: 0.063, Test acc: 97.920\n",
      "Epoch: 3, Minibatches completed: 1100, Loss: 0.099, Test acc: 97.800\n",
      "Epoch: 3, Minibatches completed: 1150, Loss: 0.094, Test acc: 98.110\n",
      "Epoch: 3, Minibatches completed: 1200, Loss: 0.093, Test acc: 97.910\n",
      "Epoch: 3, Minibatches completed: 1250, Loss: 0.082, Test acc: 97.910\n",
      "Epoch: 3, Minibatches completed: 1300, Loss: 0.067, Test acc: 98.230\n",
      "Epoch: 3, Minibatches completed: 1350, Loss: 0.075, Test acc: 98.020\n",
      "Epoch: 3, Minibatches completed: 1400, Loss: 0.092, Test acc: 98.240\n",
      "Epoch: 3, Minibatches completed: 1450, Loss: 0.048, Test acc: 97.860\n",
      "Epoch: 3, Minibatches completed: 1500, Loss: 0.056, Test acc: 98.020\n",
      "Epoch: 3, Minibatches completed: 1550, Loss: 0.062, Test acc: 98.030\n",
      "Epoch: 3, Minibatches completed: 1600, Loss: 0.066, Test acc: 98.100\n",
      "Epoch: 3, Minibatches completed: 1650, Loss: 0.062, Test acc: 98.080\n",
      "Epoch: 3, Minibatches completed: 1700, Loss: 0.087, Test acc: 98.060\n",
      "Epoch: 3, Minibatches completed: 1750, Loss: 0.059, Test acc: 98.020\n",
      "Epoch: 3, Minibatches completed: 1800, Loss: 0.062, Test acc: 98.250\n",
      "Epoch: 3, Minibatches completed: 1850, Loss: 0.046, Test acc: 98.050\n",
      "Epoch: 4, Minibatches completed: 50, Loss: 0.047, Test acc: 98.030\n",
      "Epoch: 4, Minibatches completed: 100, Loss: 0.051, Test acc: 98.210\n",
      "Epoch: 4, Minibatches completed: 150, Loss: 0.044, Test acc: 98.090\n",
      "Epoch: 4, Minibatches completed: 200, Loss: 0.075, Test acc: 97.820\n",
      "Epoch: 4, Minibatches completed: 250, Loss: 0.063, Test acc: 98.130\n",
      "Epoch: 4, Minibatches completed: 300, Loss: 0.051, Test acc: 98.130\n",
      "Epoch: 4, Minibatches completed: 350, Loss: 0.053, Test acc: 98.220\n",
      "Epoch: 4, Minibatches completed: 400, Loss: 0.060, Test acc: 98.140\n",
      "Epoch: 4, Minibatches completed: 450, Loss: 0.056, Test acc: 98.230\n"
     ]
    },
    {
     "name": "stdout",
     "output_type": "stream",
     "text": [
      "Epoch: 4, Minibatches completed: 500, Loss: 0.044, Test acc: 97.990\n",
      "Epoch: 4, Minibatches completed: 550, Loss: 0.075, Test acc: 98.270\n",
      "Epoch: 4, Minibatches completed: 600, Loss: 0.073, Test acc: 98.050\n",
      "Epoch: 4, Minibatches completed: 650, Loss: 0.071, Test acc: 98.100\n",
      "Epoch: 4, Minibatches completed: 700, Loss: 0.050, Test acc: 97.870\n",
      "Epoch: 4, Minibatches completed: 750, Loss: 0.058, Test acc: 98.170\n",
      "Epoch: 4, Minibatches completed: 800, Loss: 0.051, Test acc: 98.110\n",
      "Epoch: 4, Minibatches completed: 850, Loss: 0.061, Test acc: 97.980\n",
      "Epoch: 4, Minibatches completed: 900, Loss: 0.060, Test acc: 98.260\n",
      "Epoch: 4, Minibatches completed: 950, Loss: 0.063, Test acc: 98.080\n",
      "Epoch: 4, Minibatches completed: 1000, Loss: 0.053, Test acc: 98.240\n",
      "Epoch: 4, Minibatches completed: 1050, Loss: 0.050, Test acc: 97.940\n",
      "Epoch: 4, Minibatches completed: 1100, Loss: 0.081, Test acc: 98.200\n",
      "Epoch: 4, Minibatches completed: 1150, Loss: 0.059, Test acc: 98.220\n",
      "Epoch: 4, Minibatches completed: 1200, Loss: 0.043, Test acc: 98.190\n",
      "Epoch: 4, Minibatches completed: 1250, Loss: 0.056, Test acc: 98.260\n",
      "Epoch: 4, Minibatches completed: 1300, Loss: 0.048, Test acc: 98.130\n",
      "Epoch: 4, Minibatches completed: 1350, Loss: 0.051, Test acc: 98.330\n",
      "Epoch: 4, Minibatches completed: 1400, Loss: 0.064, Test acc: 98.300\n",
      "Epoch: 4, Minibatches completed: 1450, Loss: 0.065, Test acc: 98.410\n",
      "Epoch: 4, Minibatches completed: 1500, Loss: 0.043, Test acc: 98.240\n",
      "Epoch: 4, Minibatches completed: 1550, Loss: 0.061, Test acc: 98.300\n",
      "Epoch: 4, Minibatches completed: 1600, Loss: 0.063, Test acc: 98.170\n",
      "Epoch: 4, Minibatches completed: 1650, Loss: 0.055, Test acc: 98.350\n",
      "Epoch: 4, Minibatches completed: 1700, Loss: 0.076, Test acc: 98.510\n",
      "Epoch: 4, Minibatches completed: 1750, Loss: 0.054, Test acc: 98.340\n",
      "Epoch: 4, Minibatches completed: 1800, Loss: 0.056, Test acc: 98.330\n",
      "Epoch: 4, Minibatches completed: 1850, Loss: 0.046, Test acc: 98.490\n",
      "Epoch: 5, Minibatches completed: 50, Loss: 0.037, Test acc: 98.310\n",
      "Epoch: 5, Minibatches completed: 100, Loss: 0.064, Test acc: 98.230\n",
      "Epoch: 5, Minibatches completed: 150, Loss: 0.053, Test acc: 98.340\n",
      "Epoch: 5, Minibatches completed: 200, Loss: 0.048, Test acc: 98.670\n",
      "Epoch: 5, Minibatches completed: 250, Loss: 0.039, Test acc: 98.550\n",
      "Epoch: 5, Minibatches completed: 300, Loss: 0.046, Test acc: 98.620\n",
      "Epoch: 5, Minibatches completed: 350, Loss: 0.042, Test acc: 98.310\n",
      "Epoch: 5, Minibatches completed: 400, Loss: 0.049, Test acc: 98.390\n",
      "Epoch: 5, Minibatches completed: 450, Loss: 0.051, Test acc: 98.190\n",
      "Epoch: 5, Minibatches completed: 500, Loss: 0.039, Test acc: 98.380\n",
      "Epoch: 5, Minibatches completed: 550, Loss: 0.039, Test acc: 98.490\n",
      "Epoch: 5, Minibatches completed: 600, Loss: 0.048, Test acc: 98.430\n",
      "Epoch: 5, Minibatches completed: 650, Loss: 0.051, Test acc: 98.440\n",
      "Epoch: 5, Minibatches completed: 700, Loss: 0.048, Test acc: 98.470\n",
      "Epoch: 5, Minibatches completed: 750, Loss: 0.047, Test acc: 98.440\n",
      "Epoch: 5, Minibatches completed: 800, Loss: 0.054, Test acc: 98.280\n",
      "Epoch: 5, Minibatches completed: 850, Loss: 0.049, Test acc: 98.430\n",
      "Epoch: 5, Minibatches completed: 900, Loss: 0.043, Test acc: 98.490\n",
      "Epoch: 5, Minibatches completed: 950, Loss: 0.042, Test acc: 98.470\n",
      "Epoch: 5, Minibatches completed: 1000, Loss: 0.048, Test acc: 98.440\n",
      "Epoch: 5, Minibatches completed: 1050, Loss: 0.054, Test acc: 98.500\n",
      "Epoch: 5, Minibatches completed: 1100, Loss: 0.045, Test acc: 98.530\n",
      "Epoch: 5, Minibatches completed: 1150, Loss: 0.047, Test acc: 98.480\n",
      "Epoch: 5, Minibatches completed: 1200, Loss: 0.034, Test acc: 98.480\n",
      "Epoch: 5, Minibatches completed: 1250, Loss: 0.035, Test acc: 98.450\n",
      "Epoch: 5, Minibatches completed: 1300, Loss: 0.049, Test acc: 98.230\n",
      "Epoch: 5, Minibatches completed: 1350, Loss: 0.040, Test acc: 98.300\n",
      "Epoch: 5, Minibatches completed: 1400, Loss: 0.041, Test acc: 98.370\n",
      "Epoch: 5, Minibatches completed: 1450, Loss: 0.055, Test acc: 98.510\n",
      "Epoch: 5, Minibatches completed: 1500, Loss: 0.045, Test acc: 98.600\n",
      "Epoch: 5, Minibatches completed: 1550, Loss: 0.043, Test acc: 98.450\n",
      "Epoch: 5, Minibatches completed: 1600, Loss: 0.044, Test acc: 98.450\n",
      "Epoch: 5, Minibatches completed: 1650, Loss: 0.042, Test acc: 98.540\n",
      "Epoch: 5, Minibatches completed: 1700, Loss: 0.043, Test acc: 98.350\n",
      "Epoch: 5, Minibatches completed: 1750, Loss: 0.051, Test acc: 98.590\n",
      "Epoch: 5, Minibatches completed: 1800, Loss: 0.050, Test acc: 98.300\n",
      "Epoch: 5, Minibatches completed: 1850, Loss: 0.038, Test acc: 98.620\n"
     ]
    }
   ],
   "source": [
    "epochs = 5\n",
    "\n",
    "epoch_log = []\n",
    "loss_log = []\n",
    "acc_log = []\n",
    "\n",
    "for epoch in range(epochs):\n",
    "    running_loss = 0.0\n",
    "    \n",
    "    for i, data in enumerate(trainloader, 0):\n",
    "        inputs, labels = data\n",
    "        inputs = inputs.to(\"cpu\")\n",
    "        labels = labels.to(\"cpu\")\n",
    "        \n",
    "        optimizer.zero_grad()\n",
    "        outputs = covnet(inputs)\n",
    "        loss = loss_fn(outputs, labels)\n",
    "        loss.backward()  # Back propagate to obtain the new gradients for all nodes\n",
    "        optimizer.step() # Update the gradients/weights\n",
    "        \n",
    "        running_loss += loss.item()\n",
    "        \n",
    "        if i % 50 == 49:\n",
    "            correct = 0\n",
    "            total = 0\n",
    "            \n",
    "            with no_grad():\n",
    "                for data in testloader:\n",
    "                    images, labels = data\n",
    "                    images = images.to(\"cpu\")\n",
    "                    labels = labels.to(\"cpu\")\n",
    "                    \n",
    "                    outputs = covnet(images)\n",
    "                    \n",
    "                    _, predicted = max(outputs.data, dim=1)\n",
    "                    total += labels.size(0)\n",
    "                    correct += (predicted == labels).sum().item()\n",
    "                \n",
    "                acc = 100 * correct / total\n",
    "                actual_loss = running_loss / 50.0\n",
    "                print(f\"Epoch: {(epoch+1)}, Minibatches completed: {(i+1)}, Loss: {actual_loss:.3f}, Test acc: {acc:.3f}\")\n",
    "                \n",
    "                running_loss = 0.0\n",
    "            \n",
    "    epoch_log.append((epoch+1))\n",
    "    loss_log.append(actual_loss)\n",
    "    acc_log.append(acc)"
   ]
  },
  {
   "cell_type": "markdown",
   "metadata": {},
   "source": [
    "### Saving the model"
   ]
  },
  {
   "cell_type": "code",
   "execution_count": 20,
   "metadata": {},
   "outputs": [],
   "source": [
    "from torch import save, load\n",
    "PATH = \"./mnist_cnn_path.pth\""
   ]
  },
  {
   "cell_type": "code",
   "execution_count": 21,
   "metadata": {},
   "outputs": [],
   "source": [
    "save(covnet.state_dict(), PATH)"
   ]
  },
  {
   "cell_type": "markdown",
   "metadata": {},
   "source": [
    "### Loading model"
   ]
  },
  {
   "cell_type": "code",
   "execution_count": 22,
   "metadata": {},
   "outputs": [
    {
     "data": {
      "text/plain": [
       "<All keys matched successfully>"
      ]
     },
     "execution_count": 22,
     "metadata": {},
     "output_type": "execute_result"
    }
   ],
   "source": [
    "net = ConvNet()\n",
    "net.to(\"cpu\")\n",
    "net.load_state_dict(load(PATH))"
   ]
  },
  {
   "cell_type": "markdown",
   "metadata": {},
   "source": [
    "### Test accuracy"
   ]
  },
  {
   "cell_type": "code",
   "execution_count": 23,
   "metadata": {},
   "outputs": [
    {
     "data": {
      "text/plain": [
       "98.67"
      ]
     },
     "execution_count": 23,
     "metadata": {},
     "output_type": "execute_result"
    }
   ],
   "source": [
    "correct = 0\n",
    "total = 0\n",
    "\n",
    "with no_grad():\n",
    "    for data in testloader:\n",
    "        images, labels = data\n",
    "        images = images.to(\"cpu\")\n",
    "        labels = labels.to(\"cpu\")\n",
    "        \n",
    "        outputs = net(images)\n",
    "        _, pred = max(outputs.data, 1)\n",
    "        total += labels.size(0)\n",
    "        correct += (pred == labels).sum().item()\n",
    "        \n",
    "test_acc = 100 * correct / total\n",
    "test_acc"
   ]
  },
  {
   "cell_type": "markdown",
   "metadata": {},
   "source": [
    "### Plotting results"
   ]
  },
  {
   "cell_type": "code",
   "execution_count": 24,
   "metadata": {},
   "outputs": [
    {
     "data": {
      "image/png": "[encoded data removed]",
      "text/plain": [
       "<Figure size 432x288 with 2 Axes>"
      ]
     },
     "metadata": {
      "needs_background": "light"
     },
     "output_type": "display_data"
    }
   ],
   "source": [
    "# To create a plot with secondary y-axis we need to create a subplot\n",
    "import matplotlib.pyplot as plt\n",
    "fig, ax1 = plt.subplots()\n",
    "\n",
    "# Set title and x-axis label rotation\n",
    "plt.title(\"Accuracy & Loss vs Epoch\")\n",
    "plt.xticks(rotation=45)\n",
    "\n",
    "# We use twinx to create a plot a secondary y axis\n",
    "ax2 = ax1.twinx()\n",
    "\n",
    "# Create plot for loss_log and accuracy_log\n",
    "ax1.plot(epoch_log, loss_log, 'g-')\n",
    "ax2.plot(epoch_log, acc_log, 'b-')\n",
    "\n",
    "# Set labels\n",
    "ax1.set_xlabel('Epochs')\n",
    "ax1.set_ylabel('Loss', color='g')\n",
    "ax2.set_ylabel('Test Accuracy', color='b')\n",
    "\n",
    "plt.show()"
   ]
  },
  {
   "cell_type": "markdown",
   "metadata": {},
   "source": [
    "### Getting confusion matrix"
   ]
  },
  {
   "cell_type": "code",
   "execution_count": 25,
   "metadata": {},
   "outputs": [],
   "source": [
    "from sklearn.metrics import confusion_matrixusion_matrix, classification_report"
   ]
  },
  {
   "cell_type": "code",
   "execution_count": 32,
   "metadata": {},
   "outputs": [],
   "source": [
    "from torch import zeros, long, cat"
   ]
  },
  {
   "cell_type": "code",
   "execution_count": 34,
   "metadata": {},
   "outputs": [],
   "source": [
    "pred_list = zeros(0, dtype=long, device=\"cpu\")\n",
    "label_list = zeros(0, dtype=long, device=\"cpu\")\n",
    "\n",
    "with no_grad():\n",
    "    for i, (inputs, labels) in enumerate(testloader):\n",
    "        inputs = inputs.to(\"cpu\")\n",
    "        labels = labels.to(\"cpu\")\n",
    "        \n",
    "        outputs = net(inputs)\n",
    "        _, preds = max(outputs.data, 1)\n",
    "        \n",
    "        pred_list = cat([pred_list, preds.view(-1).cpu()])\n",
    "        label_list = cat([label_list, labels.view(-1).cpu()])"
   ]
  },
  {
   "cell_type": "code",
   "execution_count": 35,
   "metadata": {},
   "outputs": [
    {
     "name": "stdout",
     "output_type": "stream",
     "text": [
      "[[ 970    0    1    0    0    1    3    1    3    1]\n",
      " [   0 1124    3    0    0    2    3    1    2    0]\n",
      " [   2    1 1023    0    1    0    0    3    2    0]\n",
      " [   0    0    1 1002    0    4    0    2    1    0]\n",
      " [   0    0    1    0  974    0    3    0    0    4]\n",
      " [   2    0    1    4    0  881    1    1    0    2]\n",
      " [   4    2    0    0    2    4  945    0    1    0]\n",
      " [   1    0   11    1    0    0    0 1013    0    2]\n",
      " [   5    0    6    1    2    0    1    3  953    3]\n",
      " [   2    1    0    3    7    1    2    9    2  982]]\n"
     ]
    }
   ],
   "source": [
    "cm = confusion_matrix(label_list.numpy(), pred_list.numpy())\n",
    "print(cm)"
   ]
  },
  {
   "cell_type": "code",
   "execution_count": null,
   "metadata": {},
   "outputs": [],
   "source": []
  }
 ],
 "metadata": {
  "kernelspec": {
   "display_name": "Python 3 (ipykernel)",
   "language": "python",
   "name": "python3"
  },
  "language_info": {
   "codemirror_mode": {
    "name": "ipython",
    "version": 3
   },
   "file_extension": ".py",
   "mimetype": "text/x-python",
   "name": "python",
   "nbconvert_exporter": "python",
   "pygments_lexer": "ipython3",
   "version": "3.11.4"
  }
 },
 "nbformat": 4,
 "nbformat_minor": 4
}
