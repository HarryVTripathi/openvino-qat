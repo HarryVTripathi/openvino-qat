{
 "cells": [
  {
   "cell_type": "code",
   "execution_count": null,
   "metadata": {},
   "outputs": [],
   "source": [
    "!pip install tf-keras-vis"
   ]
  },
  {
   "cell_type": "code",
   "execution_count": 1,
   "metadata": {},
   "outputs": [
    {
     "data": {
      "text/html": [
       "<style>\n",
       "h1 {\n",
       "  border-radius: 10px;\n",
       "  padding: 10px;\n",
       "  margin: 10px;\n",
       "  font-family: cursive;\n",
       "  color: white;\n",
       "  position: static;\n",
       "  background: rgb(0,206,244);\n",
       "  background: linear-gradient(180deg, rgba(0,206,244,1) 0%, rgba(169,238,251,1) 100%);\n",
       "}\n",
       "\n",
       "div#notebook {\n",
       "  color: black;\n",
       "  background-color: rgb(0, 0, 0);\n",
       "}\n",
       "\n",
       "div#notebook-container {\n",
       "  color: black;\n",
       "  background-color: rgb(32, 35, 36);\n",
       "}\n",
       "\n",
       "div.text_cell_render {\n",
       "  word-spacing: 120%;\n",
       "  font-family: cursive;\n",
       "  font-size: 120%;\n",
       "  color: rgb(249, 250, 250);\n",
       "  line-height: 220%;\n",
       "}\n",
       "\n",
       "div.output_subarea.output_text.output_result {\n",
       "  color: aliceblue;\n",
       "  background: rgb(196, 209, 212);\n",
       "  background: linear-gradient(180deg,rgb(196, 209, 212, 1) 0%, rgb(255, 255, 255) 100%);\n",
       "} \n",
       "\n",
       "div.CodeMirror-lines {\n",
       "  background-color: rgb(196, 209, 212);\n",
       "}\n",
       "</style>"
      ],
      "text/plain": [
       "<IPython.core.display.HTML object>"
      ]
     },
     "execution_count": 1,
     "metadata": {},
     "output_type": "execute_result"
    }
   ],
   "source": [
    "from IPython.core.display import HTML\n",
    "def css_styling():\n",
    "    styles = open(\"./styles/custom.css\", \"r\").read()\n",
    "    return HTML(styles)\n",
    "\n",
    "css_styling()"
   ]
  },
  {
   "cell_type": "markdown",
   "metadata": {},
   "source": [
    "### Importing data and libraries"
   ]
  },
  {
   "cell_type": "code",
   "execution_count": 2,
   "metadata": {},
   "outputs": [],
   "source": [
    "import numpy as np\n",
    "import matplotlib.pyplot as plt\n",
    "from sklearn.metrics import confusion_matrix, classification_report"
   ]
  },
  {
   "cell_type": "code",
   "execution_count": 3,
   "metadata": {},
   "outputs": [],
   "source": [
    "from tensorflow.keras.models import Model, load_model\n",
    "from tensorflow.keras.layers import Conv2D, MaxPool2D, Flatten, ReLU, Dense, Dropout, Input\n",
    "from tensorflow.keras.losses import CategoricalCrossentropy\n",
    "from tensorflow.keras.optimizers import Adam\n",
    "from tensorflow.keras import backend as K"
   ]
  },
  {
   "cell_type": "code",
   "execution_count": 4,
   "metadata": {},
   "outputs": [],
   "source": [
    "from tensorflow.keras.datasets import fashion_mnist"
   ]
  },
  {
   "cell_type": "code",
   "execution_count": 33,
   "metadata": {},
   "outputs": [],
   "source": [
    "(X_train, y_train), (X_test, y_test) = fashion_mnist.load_data()"
   ]
  },
  {
   "cell_type": "code",
   "execution_count": 34,
   "metadata": {},
   "outputs": [
    {
     "data": {
      "text/plain": [
       "(60000, 28, 28)"
      ]
     },
     "execution_count": 34,
     "metadata": {},
     "output_type": "execute_result"
    }
   ],
   "source": [
    "X_train.shape"
   ]
  },
  {
   "cell_type": "code",
   "execution_count": 35,
   "metadata": {},
   "outputs": [],
   "source": [
    "from tensorflow.keras.utils import to_categorical"
   ]
  },
  {
   "cell_type": "code",
   "execution_count": 36,
   "metadata": {},
   "outputs": [],
   "source": [
    "y_train = to_categorical(y_train)\n",
    "y_test = to_categorical(y_test)"
   ]
  },
  {
   "cell_type": "markdown",
   "metadata": {},
   "source": [
    "## Unregularized, unaugmented model"
   ]
  },
  {
   "cell_type": "code",
   "execution_count": 37,
   "metadata": {},
   "outputs": [],
   "source": [
    "inputs = Input(shape=(28, 28, 1), name=\"Input\")\n",
    "x = Conv2D(filters=32, kernel_size=(3, 3), strides=1, padding=\"valid\")(inputs)\n",
    "x = ReLU()(x)\n",
    "x = Conv2D(filters=64, kernel_size=(3, 3), strides=1, padding=\"valid\")(x)\n",
    "x = ReLU()(x)\n",
    "x = MaxPool2D(pool_size=(2, 2))(x)\n",
    "\n",
    "x = Flatten()(x)\n",
    "x = Dense(units=128)(x)\n",
    "x = ReLU()(x)\n",
    "outputs = Dense(units=10, activation=\"softmax\")(x)"
   ]
  },
  {
   "cell_type": "code",
   "execution_count": 38,
   "metadata": {},
   "outputs": [],
   "source": [
    "model = Model(inputs, outputs)"
   ]
  },
  {
   "cell_type": "code",
   "execution_count": 39,
   "metadata": {},
   "outputs": [],
   "source": [
    "model.compile(\n",
    "    loss=\"categorical_crossentropy\",\n",
    "    optimizer=Adam(learning_rate=0.001),\n",
    "    metrics=[\"accuracy\"],\n",
    ")"
   ]
  },
  {
   "cell_type": "code",
   "execution_count": 40,
   "metadata": {},
   "outputs": [
    {
     "name": "stdout",
     "output_type": "stream",
     "text": [
      "Model: \"model_3\"\n",
      "_________________________________________________________________\n",
      " Layer (type)                Output Shape              Param #   \n",
      "=================================================================\n",
      " Input (InputLayer)          [(None, 28, 28, 1)]       0         \n",
      "                                                                 \n",
      " conv2d_8 (Conv2D)           (None, 26, 26, 32)        320       \n",
      "                                                                 \n",
      " re_lu_12 (ReLU)             (None, 26, 26, 32)        0         \n",
      "                                                                 \n",
      " conv2d_9 (Conv2D)           (None, 24, 24, 64)        18496     \n",
      "                                                                 \n",
      " re_lu_13 (ReLU)             (None, 24, 24, 64)        0         \n",
      "                                                                 \n",
      " max_pooling2d_4 (MaxPooling  (None, 12, 12, 64)       0         \n",
      " 2D)                                                             \n",
      "                                                                 \n",
      " flatten_4 (Flatten)         (None, 9216)              0         \n",
      "                                                                 \n",
      " dense_8 (Dense)             (None, 128)               1179776   \n",
      "                                                                 \n",
      " re_lu_14 (ReLU)             (None, 128)               0         \n",
      "                                                                 \n",
      " dense_9 (Dense)             (None, 10)                1290      \n",
      "                                                                 \n",
      "=================================================================\n",
      "Total params: 1,199,882\n",
      "Trainable params: 1,199,882\n",
      "Non-trainable params: 0\n",
      "_________________________________________________________________\n"
     ]
    }
   ],
   "source": [
    "model.summary()"
   ]
  },
  {
   "cell_type": "code",
   "execution_count": 41,
   "metadata": {},
   "outputs": [
    {
     "name": "stdout",
     "output_type": "stream",
     "text": [
      "Epoch 1/10\n",
      "1875/1875 [==============================] - 230s 119ms/step - loss: 0.7734 - accuracy: 0.8540 - val_loss: 0.3300 - val_accuracy: 0.8804\n",
      "Epoch 2/10\n",
      "1875/1875 [==============================] - 215s 115ms/step - loss: 0.2692 - accuracy: 0.9000 - val_loss: 0.3038 - val_accuracy: 0.8899\n",
      "Epoch 3/10\n",
      "1875/1875 [==============================] - 214s 114ms/step - loss: 0.2192 - accuracy: 0.9179 - val_loss: 0.3078 - val_accuracy: 0.8905\n",
      "Epoch 4/10\n",
      "1875/1875 [==============================] - 213s 114ms/step - loss: 0.1861 - accuracy: 0.9304 - val_loss: 0.3659 - val_accuracy: 0.8838\n",
      "Epoch 5/10\n",
      "1875/1875 [==============================] - 212s 113ms/step - loss: 0.1617 - accuracy: 0.9394 - val_loss: 0.3381 - val_accuracy: 0.8965\n",
      "Epoch 6/10\n",
      "1875/1875 [==============================] - 215s 115ms/step - loss: 0.1394 - accuracy: 0.9485 - val_loss: 0.3713 - val_accuracy: 0.9014\n",
      "Epoch 7/10\n",
      "1875/1875 [==============================] - 232s 124ms/step - loss: 0.1152 - accuracy: 0.9581 - val_loss: 0.4235 - val_accuracy: 0.8984\n",
      "Epoch 8/10\n",
      "1875/1875 [==============================] - 213s 114ms/step - loss: 0.1028 - accuracy: 0.9629 - val_loss: 0.4475 - val_accuracy: 0.9034\n",
      "Epoch 9/10\n",
      "1875/1875 [==============================] - 215s 115ms/step - loss: 0.0899 - accuracy: 0.9686 - val_loss: 0.4734 - val_accuracy: 0.9012\n",
      "Epoch 10/10\n",
      "1875/1875 [==============================] - 172s 91ms/step - loss: 0.0754 - accuracy: 0.9730 - val_loss: 0.5296 - val_accuracy: 0.8997\n"
     ]
    }
   ],
   "source": [
    "batch_size = 32\n",
    "epochs = 10\n",
    "\n",
    "history = model.fit(\n",
    "    X_train,\n",
    "    y_train,\n",
    "    batch_size=batch_size,\n",
    "    epochs=epochs,\n",
    "    validation_data=(X_test, y_test),\n",
    ")"
   ]
  },
  {
   "cell_type": "code",
   "execution_count": 47,
   "metadata": {},
   "outputs": [
    {
     "name": "stdout",
     "output_type": "stream",
     "text": [
      "313/313 [==============================] - 3s 9ms/step - loss: 0.5296 - accuracy: 0.8997\n"
     ]
    }
   ],
   "source": [
    "score = model.evaluate(X_test, y_test)"
   ]
  },
  {
   "cell_type": "code",
   "execution_count": 48,
   "metadata": {},
   "outputs": [],
   "source": [
    "test_loss, test_acc = score"
   ]
  },
  {
   "cell_type": "code",
   "execution_count": 49,
   "metadata": {},
   "outputs": [
    {
     "data": {
      "text/plain": [
       "('Test loss: 0.5296468734741211', 'Test acc: 0.8996999859809875')"
      ]
     },
     "execution_count": 49,
     "metadata": {},
     "output_type": "execute_result"
    }
   ],
   "source": [
    "(\n",
    "    f\"Test loss: {test_loss}\",\n",
    "    f\"Test acc: {test_acc}\",\n",
    ")"
   ]
  },
  {
   "cell_type": "markdown",
   "metadata": {},
   "source": [
    "### Vizualizing filters"
   ]
  },
  {
   "cell_type": "code",
   "execution_count": 50,
   "metadata": {},
   "outputs": [
    {
     "data": {
      "text/plain": [
       "{'Input': <keras.engine.input_layer.InputLayer at 0x181a2e5ae20>,\n",
       " 'conv2d_8': <keras.layers.convolutional.conv2d.Conv2D at 0x18196c94bb0>,\n",
       " 're_lu_12': <keras.layers.activation.relu.ReLU at 0x181a25e0be0>,\n",
       " 'conv2d_9': <keras.layers.convolutional.conv2d.Conv2D at 0x181a2dff0d0>,\n",
       " 're_lu_13': <keras.layers.activation.relu.ReLU at 0x18196c766d0>,\n",
       " 'max_pooling2d_4': <keras.layers.pooling.max_pooling2d.MaxPooling2D at 0x18196bba040>,\n",
       " 'flatten_4': <keras.layers.reshaping.flatten.Flatten at 0x181a2e677c0>,\n",
       " 'dense_8': <keras.layers.core.dense.Dense at 0x181a2e69e20>,\n",
       " 're_lu_14': <keras.layers.activation.relu.ReLU at 0x18196c76190>,\n",
       " 'dense_9': <keras.layers.core.dense.Dense at 0x181a2e69ee0>}"
      ]
     },
     "execution_count": 50,
     "metadata": {},
     "output_type": "execute_result"
    }
   ],
   "source": [
    "layer_dict = dict([(layer.name, layer) for layer in model.layers])\n",
    "layer_dict"
   ]
  },
  {
   "cell_type": "code",
   "execution_count": null,
   "metadata": {
    "scrolled": false
   },
   "outputs": [],
   "source": [
    "model.get_layer(\"conv2d_8\").get_weights()"
   ]
  },
  {
   "cell_type": "code",
   "execution_count": 53,
   "metadata": {},
   "outputs": [],
   "source": [
    "filters, biases = model.layers[1].get_weights()"
   ]
  },
  {
   "cell_type": "code",
   "execution_count": 54,
   "metadata": {},
   "outputs": [
    {
     "data": {
      "text/plain": [
       "(3, 3, 1, 32)"
      ]
     },
     "execution_count": 54,
     "metadata": {},
     "output_type": "execute_result"
    }
   ],
   "source": [
    "filters.shape"
   ]
  },
  {
   "cell_type": "code",
   "execution_count": 55,
   "metadata": {},
   "outputs": [
    {
     "name": "stdout",
     "output_type": "stream",
     "text": [
      "Before Normalisation, Min = -0.6094602942466736 and Max =  0.20226840674877167\n",
      "After Normalisation, Min = 0.0 and Max =  1.0\n"
     ]
    }
   ],
   "source": [
    "# normalize filter values to 0-1 so we can visualize them\n",
    "f_min, f_max = filters.min(), filters.max()\n",
    "print(f'Before Normalisation, Min = {f_min} and Max =  {f_max}')\n",
    "filters = (filters - f_min) / (f_max - f_min)\n",
    "print(f'After Normalisation, Min = {filters.min()} and Max =  {filters.max()}')"
   ]
  },
  {
   "cell_type": "code",
   "execution_count": 56,
   "metadata": {},
   "outputs": [],
   "source": [
    "import matplotlib.pyplot as plt"
   ]
  },
  {
   "cell_type": "code",
   "execution_count": 61,
   "metadata": {},
   "outputs": [],
   "source": [
    "def plot_filters(layer_name):\n",
    "    filters, biases = model.get_layer(layer_name).get_weights()\n",
    "    n_filters = filters.shape[-1]\n",
    "    ix = 1\n",
    "    plt.figure(figsize=(12, 20))\n",
    "\n",
    "    for i in range(n_filters):\n",
    "        f = filters[..., i]\n",
    "\n",
    "        ax = plt.subplot(n_filters, 4, ix)\n",
    "        ax.set_xticks([])\n",
    "        ax.set_yticks([])\n",
    "\n",
    "        plt.imshow(np.squeeze(f, axis=2), cmap=\"gray\")\n",
    "        ix += 1\n",
    "\n",
    "    plt.show()"
   ]
  },
  {
   "cell_type": "code",
   "execution_count": 62,
   "metadata": {},
   "outputs": [
    {
     "data": {
      "image/png": "[encoded data removed]",
      "text/plain": [
       "<Figure size 864x1440 with 32 Axes>"
      ]
     },
     "metadata": {},
     "output_type": "display_data"
    }
   ],
   "source": [
    "plot_filters(\"conv2d_8\")"
   ]
  },
  {
   "cell_type": "markdown",
   "metadata": {},
   "source": [
    "### Visualizing feature maps/activations"
   ]
  },
  {
   "cell_type": "code",
   "execution_count": 99,
   "metadata": {},
   "outputs": [],
   "source": [
    "layer_outputs = [layer.output for layer in model.layers[1:3]]\n",
    "activation_model = Model(inputs=model.inputs, outputs=layer_outputs)"
   ]
  },
  {
   "cell_type": "code",
   "execution_count": 108,
   "metadata": {},
   "outputs": [
    {
     "data": {
      "image/png": "[encoded data removed]",
      "text/plain": [
       "<Figure size 432x288 with 1 Axes>"
      ]
     },
     "metadata": {
      "needs_background": "light"
     },
     "output_type": "display_data"
    }
   ],
   "source": [
    "img = X_test[16][np.newaxis, ..., np.newaxis]\n",
    "plt.imshow(X_test[16], cmap=\"gray\")\n",
    "plt.show()"
   ]
  },
  {
   "cell_type": "code",
   "execution_count": 109,
   "metadata": {},
   "outputs": [
    {
     "name": "stdout",
     "output_type": "stream",
     "text": [
      "1/1 [==============================] - 0s 20ms/step\n"
     ]
    }
   ],
   "source": [
    "activations = activation_model.predict(img)\n",
    "first_layer_activation, second_layer_activation = activations"
   ]
  },
  {
   "cell_type": "code",
   "execution_count": 110,
   "metadata": {},
   "outputs": [
    {
     "data": {
      "image/png": "[encoded data removed]",
      "text/plain": [
       "<Figure size 432x288 with 1 Axes>"
      ]
     },
     "metadata": {
      "needs_background": "light"
     },
     "output_type": "display_data"
    }
   ],
   "source": [
    "plt.imshow(first_layer_activation[0, :, :, 3], cmap=\"gray\")\n",
    "plt.show()"
   ]
  },
  {
   "cell_type": "code",
   "execution_count": 111,
   "metadata": {},
   "outputs": [
    {
     "data": {
      "image/png": "[encoded data removed]",
      "text/plain": [
       "<Figure size 432x288 with 1 Axes>"
      ]
     },
     "metadata": {
      "needs_background": "light"
     },
     "output_type": "display_data"
    }
   ],
   "source": [
    "plt.imshow(second_layer_activation[0, :, :, 3], cmap=\"gray\")\n",
    "plt.show()"
   ]
  },
  {
   "cell_type": "code",
   "execution_count": 112,
   "metadata": {},
   "outputs": [
    {
     "data": {
      "image/png": "[encoded data removed]",
      "text/plain": [
       "<Figure size 1440x432 with 32 Axes>"
      ]
     },
     "metadata": {
      "needs_background": "light"
     },
     "output_type": "display_data"
    }
   ],
   "source": [
    "def display_activation(activations, col_size, row_size, act_index): \n",
    "    activation = activations[act_index]\n",
    "    activation_index=0\n",
    "    fig, ax = plt.subplots(row_size, col_size, figsize=(row_size*2.5,col_size*1.5))\n",
    "\n",
    "    for row in range(0, row_size):\n",
    "        for col in range(0, col_size):\n",
    "            ax[row][col].imshow(activation[0, :, :, activation_index], cmap='viridis')\n",
    "            activation_index += 1\n",
    "\n",
    "display_activation(activations, 4, 8, 0)"
   ]
  },
  {
   "cell_type": "markdown",
   "metadata": {},
   "source": [
    "## Regularized model"
   ]
  },
  {
   "cell_type": "markdown",
   "metadata": {},
   "source": [
    "### Augmentation"
   ]
  },
  {
   "cell_type": "code",
   "execution_count": 10,
   "metadata": {},
   "outputs": [],
   "source": [
    "from tensorflow.keras.preprocessing.image import ImageDataGenerator"
   ]
  },
  {
   "cell_type": "code",
   "execution_count": 11,
   "metadata": {},
   "outputs": [
    {
     "name": "stdout",
     "output_type": "stream",
     "text": [
      "(60000, 28, 28, 1)\n",
      "(10000, 28, 28, 1)\n"
     ]
    }
   ],
   "source": [
    "X_train = X_train[..., np.newaxis].astype(\"float32\")\n",
    "X_test = np.expand_dims(X_test, axis=-1).astype(\"float32\")\n",
    "\n",
    "print(X_train.shape)\n",
    "print(X_test.shape)"
   ]
  },
  {
   "cell_type": "code",
   "execution_count": 12,
   "metadata": {},
   "outputs": [],
   "source": [
    "X_train /= 255.0\n",
    "X_test /= 255.0"
   ]
  },
  {
   "cell_type": "code",
   "execution_count": 13,
   "metadata": {},
   "outputs": [],
   "source": [
    "from tensorflow.keras.layers import BatchNormalization, Dropout\n",
    "from tensorflow.keras.regularizers import l1, l2"
   ]
  },
  {
   "cell_type": "code",
   "execution_count": 28,
   "metadata": {},
   "outputs": [],
   "source": [
    "inputs = Input(shape=(28, 28, 1), name=\"Input\")\n",
    "x = Conv2D(filters=32, kernel_size=(3, 3), strides=1, padding=\"valid\", kernel_regularizer=l2(l2=0.02))(inputs)\n",
    "x = BatchNormalization()(x)\n",
    "x = ReLU()(x)\n",
    "x = Conv2D(filters=64, kernel_size=(3, 3), strides=1, padding=\"valid\", kernel_regularizer=l2(l2=0.02))(x)\n",
    "x = BatchNormalization()(x)\n",
    "x = ReLU()(x)\n",
    "x = MaxPool2D(pool_size=(2, 2))(x)\n",
    "x = Dropout(0.2)(x)\n",
    "\n",
    "x = Flatten()(x)\n",
    "x = Dense(units=128)(x)\n",
    "x = Dropout(0.2)(x)\n",
    "x = ReLU()(x)\n",
    "outputs = Dense(units=10, activation=\"softmax\")(x)"
   ]
  },
  {
   "cell_type": "code",
   "execution_count": 29,
   "metadata": {},
   "outputs": [],
   "source": [
    "model_regd = Model(inputs, outputs)"
   ]
  },
  {
   "cell_type": "code",
   "execution_count": 30,
   "metadata": {},
   "outputs": [],
   "source": [
    "model_regd.compile(\n",
    "    loss=\"categorical_crossentropy\",\n",
    "    optimizer=Adam(learning_rate=0.001),\n",
    "    metrics=[\"accuracy\"],\n",
    ")"
   ]
  },
  {
   "cell_type": "code",
   "execution_count": 31,
   "metadata": {},
   "outputs": [
    {
     "name": "stdout",
     "output_type": "stream",
     "text": [
      "Model: \"model_2\"\n",
      "_________________________________________________________________\n",
      " Layer (type)                Output Shape              Param #   \n",
      "=================================================================\n",
      " Input (InputLayer)          [(None, 28, 28, 1)]       0         \n",
      "                                                                 \n",
      " conv2d_6 (Conv2D)           (None, 26, 26, 32)        320       \n",
      "                                                                 \n",
      " batch_normalization_4 (Batc  (None, 26, 26, 32)       128       \n",
      " hNormalization)                                                 \n",
      "                                                                 \n",
      " re_lu_9 (ReLU)              (None, 26, 26, 32)        0         \n",
      "                                                                 \n",
      " conv2d_7 (Conv2D)           (None, 24, 24, 64)        18496     \n",
      "                                                                 \n",
      " batch_normalization_5 (Batc  (None, 24, 24, 64)       256       \n",
      " hNormalization)                                                 \n",
      "                                                                 \n",
      " re_lu_10 (ReLU)             (None, 24, 24, 64)        0         \n",
      "                                                                 \n",
      " max_pooling2d_3 (MaxPooling  (None, 12, 12, 64)       0         \n",
      " 2D)                                                             \n",
      "                                                                 \n",
      " dropout_4 (Dropout)         (None, 12, 12, 64)        0         \n",
      "                                                                 \n",
      " flatten_3 (Flatten)         (None, 9216)              0         \n",
      "                                                                 \n",
      " dense_6 (Dense)             (None, 128)               1179776   \n",
      "                                                                 \n",
      " dropout_5 (Dropout)         (None, 128)               0         \n",
      "                                                                 \n",
      " re_lu_11 (ReLU)             (None, 128)               0         \n",
      "                                                                 \n",
      " dense_7 (Dense)             (None, 10)                1290      \n",
      "                                                                 \n",
      "=================================================================\n",
      "Total params: 1,200,266\n",
      "Trainable params: 1,200,074\n",
      "Non-trainable params: 192\n",
      "_________________________________________________________________\n"
     ]
    }
   ],
   "source": [
    "model_regd.summary()"
   ]
  },
  {
   "cell_type": "code",
   "execution_count": 32,
   "metadata": {},
   "outputs": [
    {
     "name": "stdout",
     "output_type": "stream",
     "text": [
      "Epoch 1/10\n",
      "1875/1875 [==============================] - 178s 95ms/step - loss: 0.7662 - accuracy: 0.7498 - val_loss: 46.3797 - val_accuracy: 0.7654\n",
      "Epoch 2/10\n",
      "1875/1875 [==============================] - 176s 94ms/step - loss: 0.5853 - accuracy: 0.7967 - val_loss: 52.9338 - val_accuracy: 0.7533\n",
      "Epoch 3/10\n",
      "1875/1875 [==============================] - 175s 93ms/step - loss: 0.5394 - accuracy: 0.8122 - val_loss: 70.1757 - val_accuracy: 0.7383\n",
      "Epoch 4/10\n",
      "1875/1875 [==============================] - 164s 88ms/step - loss: 0.5109 - accuracy: 0.8199 - val_loss: 68.4055 - val_accuracy: 0.7138\n",
      "Epoch 5/10\n",
      "1875/1875 [==============================] - 162s 86ms/step - loss: 0.4905 - accuracy: 0.8281 - val_loss: 69.4359 - val_accuracy: 0.7409\n",
      "Epoch 6/10\n",
      "1875/1875 [==============================] - 160s 85ms/step - loss: 0.4775 - accuracy: 0.8339 - val_loss: 104.9472 - val_accuracy: 0.6843\n",
      "Epoch 7/10\n",
      "1875/1875 [==============================] - 161s 86ms/step - loss: 0.4680 - accuracy: 0.8366 - val_loss: 82.2510 - val_accuracy: 0.6849\n",
      "Epoch 8/10\n",
      "1875/1875 [==============================] - 159s 85ms/step - loss: 0.4571 - accuracy: 0.8411 - val_loss: 64.7433 - val_accuracy: 0.7243\n",
      "Epoch 9/10\n",
      "1875/1875 [==============================] - 159s 85ms/step - loss: 0.4530 - accuracy: 0.8420 - val_loss: 71.9948 - val_accuracy: 0.6829\n",
      "Epoch 10/10\n",
      "1875/1875 [==============================] - 167s 89ms/step - loss: 0.4481 - accuracy: 0.8450 - val_loss: 61.6785 - val_accuracy: 0.6728\n"
     ]
    }
   ],
   "source": [
    "batch_size = 32\n",
    "epochs = 10\n",
    "\n",
    "train_datagen = ImageDataGenerator(\n",
    "    rescale=1./255,\n",
    "    rotation_range=10,\n",
    "    width_shift_range=0.1,\n",
    "    height_shift_range=0.1,\n",
    "    shear_range=0.1,\n",
    "    zoom_range=0.1,\n",
    "    horizontal_flip=True,\n",
    "    fill_mode=\"nearest\",\n",
    ")\n",
    "\n",
    "history = model_regd.fit(\n",
    "    train_datagen.flow(X_train, y_train, batch_size=batch_size),\n",
    "    epochs=epochs,\n",
    "    validation_data=(X_test, y_test),\n",
    "    steps_per_epoch=X_train.shape[0] // batch_size,\n",
    ")"
   ]
  },
  {
   "cell_type": "code",
   "execution_count": 19,
   "metadata": {},
   "outputs": [
    {
     "name": "stdout",
     "output_type": "stream",
     "text": [
      "313/313 [==============================] - 4s 14ms/step - loss: 0.2810 - accuracy: 0.9118\n"
     ]
    }
   ],
   "source": [
    "score = model_regd.evaluate(X_test, y_test)"
   ]
  },
  {
   "cell_type": "code",
   "execution_count": null,
   "metadata": {},
   "outputs": [],
   "source": []
  }
 ],
 "metadata": {
  "kernelspec": {
   "display_name": "Python 3",
   "language": "python",
   "name": "python3"
  },
  "language_info": {
   "codemirror_mode": {
    "name": "ipython",
    "version": 3
   },
   "file_extension": ".py",
   "mimetype": "text/x-python",
   "name": "python",
   "nbconvert_exporter": "python",
   "pygments_lexer": "ipython3",
   "version": "3.8.5"
  }
 },
 "nbformat": 4,
 "nbformat_minor": 4
}
