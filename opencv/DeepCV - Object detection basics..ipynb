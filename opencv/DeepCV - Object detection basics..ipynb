{
 "cells": [
  {
   "cell_type": "code",
   "execution_count": 1,
   "metadata": {},
   "outputs": [
    {
     "data": {
      "text/html": [
       "<style>\n",
       "h1 {\n",
       "  border-radius: 10px;\n",
       "  padding: 10px;\n",
       "  margin: 10px;\n",
       "  font-family: cursive;\n",
       "  color: white;\n",
       "  position: static;\n",
       "  background: rgb(0,206,244);\n",
       "  background: linear-gradient(180deg, rgba(0,206,244,1) 0%, rgba(169,238,251,1) 100%);\n",
       "}\n",
       "\n",
       "div#notebook {\n",
       "  color: black;\n",
       "  background-color: rgb(0, 0, 0);\n",
       "}\n",
       "\n",
       "div#notebook-container {\n",
       "  color: black;\n",
       "  background-color: rgb(32, 35, 36);\n",
       "}\n",
       "\n",
       "div.text_cell_render {\n",
       "  word-spacing: 120%;\n",
       "  font-family: cursive;\n",
       "  font-size: 120%;\n",
       "  color: rgb(249, 250, 250);\n",
       "  line-height: 220%;\n",
       "}\n",
       "\n",
       "div.output_subarea.output_text.output_result {\n",
       "  color: aliceblue;\n",
       "  background: rgb(196, 209, 212);\n",
       "  background: linear-gradient(180deg,rgb(196, 209, 212, 1) 0%, rgb(255, 255, 255) 100%);\n",
       "} \n",
       "\n",
       "div.CodeMirror-lines {\n",
       "  background-color: rgb(196, 209, 212);\n",
       "}\n",
       "</style>"
      ],
      "text/plain": [
       "<IPython.core.display.HTML object>"
      ]
     },
     "execution_count": 1,
     "metadata": {},
     "output_type": "execute_result"
    }
   ],
   "source": [
    "from IPython.core.display import HTML\n",
    "def css_styling():\n",
    "    styles = open(\"./styles/custom.css\", \"r\").read()\n",
    "    return HTML(styles)\n",
    "\n",
    "css_styling()"
   ]
  },
  {
   "cell_type": "markdown",
   "metadata": {},
   "source": [
    "## Object detection\n",
    "\n",
    " - Localization: Determining where the boundaries of object lie. Drawing bounding boxes around object.\n",
    " \n",
    " - Recognition: Determine what object is in that region."
   ]
  },
  {
   "cell_type": "markdown",
   "metadata": {},
   "source": [
    "### types:\n",
    "\n",
    " - two shot detectors: a regional proposal to localize and then a classification stage to detect object.\n",
    " \n",
    " - single shot detectors: does both localization and classification in same step."
   ]
  },
  {
   "cell_type": "markdown",
   "metadata": {},
   "source": [
    "Instance segmentation - detect multiple objects of similar types"
   ]
  },
  {
   "cell_type": "markdown",
   "metadata": {},
   "source": [
    "### Metrics:\n",
    "\n",
    "#### Intersection over union\n",
    "\n",
    " - Intersection of predicted bounding box and actual object boundaries compared to union of predicted and actual bounding boxes.\n",
    " \n",
    " $ IoU = \\Large \\frac{pred \\hspace{2mm} \\cap \\hspace{2mm} true}{pred \\hspace{2mm} \\cup \\hspace{2mm} true} $\n",
    " \n",
    "\n",
    " - In general, IOU > 0.5 is acceptable.\n",
    "\n",
    "\n",
    "#### Mean average precision\n",
    "\n",
    " - Is a combination of many metrics.\n",
    " \n",
    " - Average precision(aP): Area under precision-recall curve. This is affected by IoU/confidence threshold.\n",
    " \n",
    " - $ mAP = \\frac{1}{n} \\sum \\limits_{i=1}^k {aP}_i $, where k is the number of classes."
   ]
  },
  {
   "cell_type": "markdown",
   "metadata": {},
   "source": [
    "### COCO Dataset:\n",
    "\n",
    " - Benchmark for object detection.\n",
    " \n",
    " - ImageNet for object detection."
   ]
  },
  {
   "cell_type": "markdown",
   "metadata": {},
   "source": [
    "### Non maximum supression \n",
    "\n",
    "Cleaning up overlapping bounding boxes.\n",
    "\n",
    " 1. Get overlapping bounding boxes.\n",
    " \n",
    " 2. Get max probability associated with each bounding box.\n",
    " \n",
    " 3. Select the bounding box with highest confidence on that class.\n",
    " \n",
    "   - Add it to final proposal list.\n",
    "   \n",
    "   - Remove it from initial proposal list.\n",
    "   \n",
    " 4. Calculate IoU for the boxes in the initial list with the box in final proposal list.\n",
    " \n",
    " 5. If the IoU exceeds a set threshold, say 0.5, that means the boxes overlap and we reject those overlapping boxes in the initial list.\n",
    " \n",
    " 6. Do this for all boxes."
   ]
  },
  {
   "cell_type": "markdown",
   "metadata": {},
   "source": [
    "Most conventional object detectors consist of two to three main parts:\n",
    "\n",
    " - Bakbone: Used for feature extraction.\n",
    " \n",
    " - Head: For loss calculation and prediction.\n",
    " \n",
    " - neck: introduced only in recent detectors, for enhancing the richness and semantic representation of the extracted features for objects of different shapes and sizes."
   ]
  },
  {
   "cell_type": "markdown",
   "metadata": {},
   "source": [
    "### Detectron2\n",
    "\n",
    " - A research platform and production library for object detection developed by FAIR.\n",
    " \n",
    " - Developed on PyTorch.\n",
    " \n",
    " - Provides capabilities :\n",
    " \n",
    "   - Cascade R-CNN.\n",
    "   \n",
    "   - Mask R-CNN.\n",
    "   \n",
    "   - PointRend\n",
    "   \n",
    "   - Densepose (human pose estimation)\n",
    "   \n",
    "   - DeepLab (semantic segmentation architecture)"
   ]
  },
  {
   "cell_type": "markdown",
   "metadata": {},
   "source": [
    " - https://mmdetection.readthedocs.io/en/latest/\n",
    " \n",
    " - https://detectron2.readthedocs.io/en/latest/\n",
    " \n",
    " - https://docs.ultralytics.com/\n",
    " \n",
    " - https://github.com/modelscope/modelscope"
   ]
  },
  {
   "cell_type": "code",
   "execution_count": null,
   "metadata": {},
   "outputs": [],
   "source": []
  }
 ],
 "metadata": {
  "kernelspec": {
   "display_name": "Python 3",
   "language": "python",
   "name": "python3"
  },
  "language_info": {
   "codemirror_mode": {
    "name": "ipython",
    "version": 3
   },
   "file_extension": ".py",
   "mimetype": "text/x-python",
   "name": "python",
   "nbconvert_exporter": "python",
   "pygments_lexer": "ipython3",
   "version": "3.8.5"
  }
 },
 "nbformat": 4,
 "nbformat_minor": 4
}
