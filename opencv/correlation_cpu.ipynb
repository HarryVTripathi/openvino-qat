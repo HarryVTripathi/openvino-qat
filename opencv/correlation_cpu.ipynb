{
 "cells": [
  {
   "cell_type": "code",
   "execution_count": 1,
   "id": "b296a928",
   "metadata": {},
   "outputs": [],
   "source": [
    "import numpy as np"
   ]
  },
  {
   "cell_type": "code",
   "execution_count": 4,
   "id": "fe60f15a",
   "metadata": {},
   "outputs": [],
   "source": [
    "intIndex = np.arange(0, 48)"
   ]
  },
  {
   "cell_type": "code",
   "execution_count": 13,
   "id": "6df50c9a",
   "metadata": {},
   "outputs": [],
   "source": [
    "intStride = 1\n",
    "first = np.random.randint(1, high=20, size=(1, 256, 8, 6)).astype(np.float32)\n",
    "rbot0 = np.zeros([first.shape[0], first.shape[2] + (6 * intStride), first.shape[3] + (6 * intStride), first.shape[1]], dtype=np.float32)"
   ]
  },
  {
   "cell_type": "code",
   "execution_count": 14,
   "id": "28ec0aec",
   "metadata": {},
   "outputs": [],
   "source": [
    "n = first.shape[2] * first.shape[3]"
   ]
  },
  {
   "cell_type": "code",
   "execution_count": 18,
   "id": "847b7ef8",
   "metadata": {},
   "outputs": [],
   "source": [
    "_input = first.reshape((256*8*6,))\n",
    "output = rbot0.reshape((256*14*12,))"
   ]
  },
  {
   "cell_type": "code",
   "execution_count": 19,
   "id": "2c1e966b",
   "metadata": {},
   "outputs": [
    {
     "data": {
      "text/plain": [
       "array([ 3,  3,  3,  3,  3,  3,  4,  4,  4,  4,  4,  4,  5,  5,  5,  5,  5,\n",
       "        5,  6,  6,  6,  6,  6,  6,  7,  7,  7,  7,  7,  7,  8,  8,  8,  8,\n",
       "        8,  8,  9,  9,  9,  9,  9,  9, 10, 10, 10, 10, 10, 10])"
      ]
     },
     "execution_count": 19,
     "metadata": {},
     "output_type": "execute_result"
    }
   ],
   "source": [
    "intPaddedY = (intIndex // 6) + 3*1;\n",
    "intPaddedY"
   ]
  },
  {
   "cell_type": "code",
   "execution_count": 20,
   "id": "8206ac46",
   "metadata": {},
   "outputs": [
    {
     "data": {
      "text/plain": [
       "array([3, 4, 5, 6, 7, 8, 3, 4, 5, 6, 7, 8, 3, 4, 5, 6, 7, 8, 3, 4, 5, 6,\n",
       "       7, 8, 3, 4, 5, 6, 7, 8, 3, 4, 5, 6, 7, 8, 3, 4, 5, 6, 7, 8, 3, 4,\n",
       "       5, 6, 7, 8])"
      ]
     },
     "execution_count": 20,
     "metadata": {},
     "output_type": "execute_result"
    }
   ],
   "source": [
    "intPaddedX = (intIndex % 6) + 3*1;\n",
    "intPaddedX"
   ]
  },
  {
   "cell_type": "code",
   "execution_count": 21,
   "id": "005ebe46",
   "metadata": {},
   "outputs": [
    {
     "data": {
      "text/plain": [
       "array([ 39,  40,  41,  42,  43,  44,  51,  52,  53,  54,  55,  56,  63,\n",
       "        64,  65,  66,  67,  68,  75,  76,  77,  78,  79,  80,  87,  88,\n",
       "        89,  90,  91,  92,  99, 100, 101, 102, 103, 104, 111, 112, 113,\n",
       "       114, 115, 116, 123, 124, 125, 126, 127, 128])"
      ]
     },
     "execution_count": 21,
     "metadata": {},
     "output_type": "execute_result"
    }
   ],
   "source": [
    "intRearrange = ((6 + 6*1) * intPaddedY) + intPaddedX;\n",
    "intRearrange"
   ]
  },
  {
   "cell_type": "code",
   "execution_count": 22,
   "id": "1317e201",
   "metadata": {},
   "outputs": [],
   "source": [
    "i = 0\n",
    "\n",
    "for intSample in range(1):\n",
    "    for intChannel in range(256):\n",
    "        for int_rearrange in intRearrange:\n",
    "            outIdx = (((intSample * 14 * 12) + int_rearrange) * 256) + intChannel;\n",
    "            fltValue = _input[i]\n",
    "            i += 1\n",
    "            output[outIdx] = fltValue\n",
    "            "
   ]
  },
  {
   "cell_type": "code",
   "execution_count": 24,
   "id": "6b87e98b",
   "metadata": {},
   "outputs": [
    {
     "data": {
      "text/plain": [
       "array([12.,  2., 11., ...,  6., 10.,  1.], dtype=float32)"
      ]
     },
     "execution_count": 24,
     "metadata": {},
     "output_type": "execute_result"
    }
   ],
   "source": [
    "_input"
   ]
  },
  {
   "cell_type": "code",
   "execution_count": null,
   "id": "2507f8eb",
   "metadata": {},
   "outputs": [],
   "source": []
  }
 ],
 "metadata": {
  "kernelspec": {
   "display_name": "Python 3 (ipykernel)",
   "language": "python",
   "name": "python3"
  },
  "language_info": {
   "codemirror_mode": {
    "name": "ipython",
    "version": 3
   },
   "file_extension": ".py",
   "mimetype": "text/x-python",
   "name": "python",
   "nbconvert_exporter": "python",
   "pygments_lexer": "ipython3",
   "version": "3.11.4"
  }
 },
 "nbformat": 4,
 "nbformat_minor": 5
}
